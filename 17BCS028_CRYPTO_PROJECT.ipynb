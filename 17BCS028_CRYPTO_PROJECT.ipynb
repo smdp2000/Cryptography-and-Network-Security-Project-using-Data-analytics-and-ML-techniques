{
 "cells": [
  {
   "cell_type": "markdown",
   "metadata": {},
   "source": [
    "# Text Analysis On Data Breach Incidents And Predicting Method Of Databreach From Given Data Breach Incidents Using Various Machine Learning Techniques\n"
   ]
  },
  {
   "cell_type": "markdown",
   "metadata": {},
   "source": [
    "**Name : Somyadeep Shrivastava** <br> \n",
    "**Reg No : 17BCS028**<br>\n",
    "**Under Guidance Of Dr. Rajendra Hegadi**<br>"
   ]
  },
  {
   "cell_type": "markdown",
   "metadata": {},
   "source": [
    "## Motivation"
   ]
  },
  {
   "cell_type": "markdown",
   "metadata": {},
   "source": [
    "Databreaches has been one of the most hazardous incidents in the field of cyber crimes. With most of the people using online data backup services , data security is the utmost need . Therefore it is needed to closely drive insights from past data breach incidents and find patterns or categorize them. So then it is easy to find what are the factors in such data breaches and who are the main culprits. Therefore I come up with textual analysis of data breach incident description data and modelling it using machine learning techniques."
   ]
  },
  {
   "cell_type": "markdown",
   "metadata": {},
   "source": []
  },
  {
   "cell_type": "markdown",
   "metadata": {},
   "source": []
  },
  {
   "cell_type": "markdown",
   "metadata": {},
   "source": []
  },
  {
   "cell_type": "markdown",
   "metadata": {},
   "source": []
  },
  {
   "cell_type": "markdown",
   "metadata": {},
   "source": []
  },
  {
   "cell_type": "markdown",
   "metadata": {},
   "source": []
  },
  {
   "cell_type": "markdown",
   "metadata": {},
   "source": []
  },
  {
   "cell_type": "markdown",
   "metadata": {},
   "source": []
  },
  {
   "cell_type": "markdown",
   "metadata": {},
   "source": []
  },
  {
   "cell_type": "markdown",
   "metadata": {},
   "source": []
  },
  {
   "cell_type": "markdown",
   "metadata": {},
   "source": [
    "## Description Of Dataset"
   ]
  },
  {
   "cell_type": "markdown",
   "metadata": {},
   "source": [
    "\n",
    "The dataset has **270 observations and 11 variables**. Most of them, are categorical variables. Incidents happened between **2004 and 2017**. Last updated: February 2018. Format: CSV2.<br><br>\n",
    "\n",
    "Variables (columns) [EN]:<br>\n",
    "\n",
    "<ol>\n",
    "    <li> <B>Entity          : </B> name of the organization (public or private) that had the breach. <span style=\"color:orange\">String</li>\n",
    "    <li><B>Alternative Name : </B> other known names of the entity. <span style=\"color:orange\">String</span></li>\n",
    "    <li><B>Story            : </B> tells a summary of what happened. <span style=\"color:orange\">String</span></li>\n",
    "    <li><B>Year             : </B> year of the breach. <span style=\"color:purple\">Date</span></li>\n",
    "    <li><B>Records Lost     : </B> number of records that the breach compromised.<span style=\"color:brown\">Integer</span></li>\n",
    "    <li><B>Sector           : </B> organization's main sector (or field of business). <span style=\"color:orange\">String</span></li>\n",
    "    <li><B>Method of Leak   : </B> main cause of the breach. <span style=\"color:orange\">String</span></li>\n",
    "    <li><B>1st source (link): </B>: 1st. url with more info about the breach. <span style=\"color:orange\">String</span></li>\n",
    "    <li><B>2nd source (link): </B> 2nd. url with more info about the breach.<span style=\"color:orange\"> String</span></li>\n",
    "    <li><B>3rd source (link): </B> 3rd. url with more info about the breach. <span style=\"color:orange\">String</span></li>\n",
    "    <li><B>Source name      : </B> name of the source of news, official reports, blog, etc. included.<span style=\"color:orange\">String</span></li>\n",
    "        <br>\n",
    "<br>\n",
    "\n",
    "Dataset Download Link : https://www.kaggle.com/estratic/data-breaches-2004-2017-en-20180218/download\n",
    "\n"
   ]
  },
  {
   "cell_type": "markdown",
   "metadata": {},
   "source": []
  },
  {
   "cell_type": "markdown",
   "metadata": {},
   "source": []
  },
  {
   "cell_type": "markdown",
   "metadata": {},
   "source": []
  },
  {
   "cell_type": "markdown",
   "metadata": {},
   "source": [
    "## My Contribution"
   ]
  },
  {
   "cell_type": "markdown",
   "metadata": {},
   "source": [
    "First of all my project targets the story section of data breach incidents so that we can find out patterns in such incidents by determining most common terms , bigrams etc.<br> \n",
    "<br> \n",
    "Further we will make a network graph to find how these incidents are connected, who are the major key nodes in such incidents.<br> \n",
    "<br> \n",
    "Various visualizations in the project try to answer \"What quantities of records were compromised by important data breaches, in organizations and sectors, between 2004 and 2017, and what was the reason?<br> \n",
    "<br> \n",
    "The ultimate aim of the project is to determine a relation between the method of data breaches and the whole data breach incident, so that huge chunks of stories of such incidents need not be gone through manually and we arrive at conclusion behind the incident to occur and take actions.<br>"
   ]
  },
  {
   "cell_type": "markdown",
   "metadata": {},
   "source": []
  },
  {
   "cell_type": "markdown",
   "metadata": {},
   "source": []
  },
  {
   "cell_type": "markdown",
   "metadata": {},
   "source": []
  },
  {
   "cell_type": "markdown",
   "metadata": {},
   "source": []
  },
  {
   "cell_type": "markdown",
   "metadata": {},
   "source": []
  },
  {
   "cell_type": "markdown",
   "metadata": {},
   "source": []
  },
  {
   "cell_type": "markdown",
   "metadata": {},
   "source": []
  },
  {
   "cell_type": "markdown",
   "metadata": {},
   "source": [
    "## Content"
   ]
  },
  {
   "cell_type": "markdown",
   "metadata": {},
   "source": [
    "### The project is divided into three sections:\n",
    "#### <ins> 1) <span style=\"color:red\">Exploratory Data Analysis</span></ins>\n",
    "#### <ins> 2) Text analysis on Story of DataBreaches using Natural Language Processing</span></ins>\n",
    "#### <ins> 3) <span style=\"color:blue\">Machine Learning Techniques to predict method of Data Breach</span></ins>\n",
    "#### <ins> 4) <span style=\"color:orange\">Conclusion</span></ins>\n",
    "#### <ins> 5) <span style=\"color:green\">References</span></ins>"
   ]
  },
  {
   "cell_type": "markdown",
   "metadata": {},
   "source": [
    "## Lets Begin"
   ]
  },
  {
   "cell_type": "code",
   "execution_count": 1,
   "metadata": {},
   "outputs": [],
   "source": [
    "import numpy as np\n",
    "import pandas as pd\n",
    "from sklearn.model_selection import train_test_split\n",
    "from sklearn.feature_extraction.text import CountVectorizer\n",
    "from sklearn.feature_extraction.text import TfidfTransformer\n",
    "from sklearn.naive_bayes import MultinomialNB\n",
    "from sklearn.pipeline import Pipeline\n",
    "from sklearn import metrics\n",
    "from sklearn.metrics import confusion_matrix\n",
    "from sklearn.metrics import classification_report\n",
    "from sklearn.ensemble import RandomForestClassifier\n",
    "import nltk\n",
    "from nltk.tokenize import RegexpTokenizer\n",
    "from sklearn.linear_model import SGDClassifier\n",
    "from sklearn.ensemble import GradientBoostingClassifier\n",
    "from xgboost import XGBClassifier\n",
    "import seaborn as sns"
   ]
  },
  {
   "cell_type": "markdown",
   "metadata": {},
   "source": [
    "## 1) Exploratory Data Analysis"
   ]
  },
  {
   "cell_type": "code",
   "execution_count": 2,
   "metadata": {},
   "outputs": [
    {
     "data": {
      "text/html": [
       "<div>\n",
       "<style scoped>\n",
       "    .dataframe tbody tr th:only-of-type {\n",
       "        vertical-align: middle;\n",
       "    }\n",
       "\n",
       "    .dataframe tbody tr th {\n",
       "        vertical-align: top;\n",
       "    }\n",
       "\n",
       "    .dataframe thead th {\n",
       "        text-align: right;\n",
       "    }\n",
       "</style>\n",
       "<table border=\"1\" class=\"dataframe\">\n",
       "  <thead>\n",
       "    <tr style=\"text-align: right;\">\n",
       "      <th></th>\n",
       "      <th>Entity</th>\n",
       "      <th>Story</th>\n",
       "      <th>Year</th>\n",
       "      <th>Records_Lost</th>\n",
       "      <th>Sector</th>\n",
       "      <th>Method of Leak</th>\n",
       "    </tr>\n",
       "  </thead>\n",
       "  <tbody>\n",
       "    <tr>\n",
       "      <th>0</th>\n",
       "      <td>River City Media</td>\n",
       "      <td>A dodgy backup has allegedly resulted in over ...</td>\n",
       "      <td>2017</td>\n",
       "      <td>1</td>\n",
       "      <td>NaN</td>\n",
       "      <td>Web</td>\n",
       "    </tr>\n",
       "    <tr>\n",
       "      <th>1</th>\n",
       "      <td>Unique Identification Authority of India</td>\n",
       "      <td>A report says that full data base has been exp...</td>\n",
       "      <td>2017</td>\n",
       "      <td>1000000000</td>\n",
       "      <td>Government</td>\n",
       "      <td>Poor security</td>\n",
       "    </tr>\n",
       "    <tr>\n",
       "      <th>2</th>\n",
       "      <td>Spambot</td>\n",
       "      <td>A misconfigured spambot has leaked over 700m r...</td>\n",
       "      <td>2017</td>\n",
       "      <td>7</td>\n",
       "      <td>NaN</td>\n",
       "      <td>Web</td>\n",
       "    </tr>\n",
       "    <tr>\n",
       "      <th>3</th>\n",
       "      <td>Friend Finder Network</td>\n",
       "      <td>Usernames, email addresses, passwords for site...</td>\n",
       "      <td>2016</td>\n",
       "      <td>4</td>\n",
       "      <td>NaN</td>\n",
       "      <td>Web</td>\n",
       "    </tr>\n",
       "    <tr>\n",
       "      <th>4</th>\n",
       "      <td>Equifax</td>\n",
       "      <td>If you have a credit report, there’s a good ch...</td>\n",
       "      <td>2017</td>\n",
       "      <td>1</td>\n",
       "      <td>NaN</td>\n",
       "      <td>Financial</td>\n",
       "    </tr>\n",
       "  </tbody>\n",
       "</table>\n",
       "</div>"
      ],
      "text/plain": [
       "                                     Entity  \\\n",
       "0                          River City Media   \n",
       "1  Unique Identification Authority of India   \n",
       "2                                   Spambot   \n",
       "3                     Friend Finder Network   \n",
       "4                                   Equifax   \n",
       "\n",
       "                                               Story  Year  Records_Lost  \\\n",
       "0  A dodgy backup has allegedly resulted in over ...  2017             1   \n",
       "1  A report says that full data base has been exp...  2017    1000000000   \n",
       "2  A misconfigured spambot has leaked over 700m r...  2017             7   \n",
       "3  Usernames, email addresses, passwords for site...  2016             4   \n",
       "4  If you have a credit report, there’s a good ch...  2017             1   \n",
       "\n",
       "       Sector Method of Leak  \n",
       "0         NaN            Web  \n",
       "1  Government  Poor security  \n",
       "2         NaN            Web  \n",
       "3         NaN            Web  \n",
       "4         NaN      Financial  "
      ]
     },
     "execution_count": 2,
     "metadata": {},
     "output_type": "execute_result"
    }
   ],
   "source": [
    "df = pd.read_csv('/home/samroadie/Desktop/CRYPTO_PROJECT/Data_Breaches.csv')\n",
    "df.head()"
   ]
  },
  {
   "cell_type": "markdown",
   "metadata": {},
   "source": [
    "### 1.1) Frequency of various type of Data Breach"
   ]
  },
  {
   "cell_type": "code",
   "execution_count": 4,
   "metadata": {},
   "outputs": [
    {
     "data": {
      "image/png": "[encoded data removed]",
      "text/plain": [
       "<Figure size 576x432 with 1 Axes>"
      ]
     },
     "metadata": {
      "needs_background": "light"
     },
     "output_type": "display_data"
    }
   ],
   "source": [
    "import matplotlib.pyplot as plt\n",
    "fig = plt.figure(figsize=(8,6))\n",
    "df.groupby('Method of Leak').Story.count().plot.bar(ylim=0)\n",
    "plt.show()"
   ]
  },
  {
   "cell_type": "markdown",
   "metadata": {},
   "source": [
    "### 1.2) Number of Data Breach Incidents in Various Sectors"
   ]
  },
  {
   "cell_type": "code",
   "execution_count": 5,
   "metadata": {},
   "outputs": [
    {
     "data": {
      "image/png": "[encoded data removed]",
      "text/plain": [
       "<Figure size 576x432 with 1 Axes>"
      ]
     },
     "metadata": {
      "needs_background": "light"
     },
     "output_type": "display_data"
    }
   ],
   "source": [
    "fig = plt.figure(figsize=(8,6))\n",
    "df.groupby('Sector').Story.count().plot.bar(ylim=0)\n",
    "plt.show()"
   ]
  },
  {
   "cell_type": "markdown",
   "metadata": {},
   "source": []
  },
  {
   "cell_type": "markdown",
   "metadata": {},
   "source": []
  },
  {
   "cell_type": "markdown",
   "metadata": {},
   "source": [
    "### 1.3) Number Of Incidents Per Year (2004-2017)"
   ]
  },
  {
   "cell_type": "code",
   "execution_count": 6,
   "metadata": {},
   "outputs": [
    {
     "data": {
      "image/png": "[encoded data removed]",
      "text/plain": [
       "<Figure size 576x432 with 1 Axes>"
      ]
     },
     "metadata": {
      "needs_background": "light"
     },
     "output_type": "display_data"
    }
   ],
   "source": [
    "fig = plt.figure(figsize=(8,6))\n",
    "df.groupby('Year').Story.count().plot.bar(ylim=0)\n",
    "plt.show()"
   ]
  },
  {
   "cell_type": "markdown",
   "metadata": {},
   "source": []
  },
  {
   "cell_type": "markdown",
   "metadata": {},
   "source": []
  },
  {
   "cell_type": "markdown",
   "metadata": {},
   "source": []
  },
  {
   "cell_type": "markdown",
   "metadata": {},
   "source": [
    "### 1.4) Number of Records Lost Per Year"
   ]
  },
  {
   "cell_type": "code",
   "execution_count": 7,
   "metadata": {},
   "outputs": [
    {
     "data": {
      "text/plain": [
       "[<matplotlib.lines.Line2D at 0x7f0c18f0abe0>]"
      ]
     },
     "execution_count": 7,
     "metadata": {},
     "output_type": "execute_result"
    },
    {
     "data": {
      "image/png": "[encoded data removed]",
      "text/plain": [
       "<Figure size 432x288 with 1 Axes>"
      ]
     },
     "metadata": {
      "needs_background": "light"
     },
     "output_type": "display_data"
    }
   ],
   "source": [
    "dfplt = pd.DataFrame() \n",
    "dfplot = df.groupby('Year')['Records_Lost'].sum()\n",
    "dh = dfplot.to_frame() \n",
    "plt.plot(dh['Records_Lost'])"
   ]
  },
  {
   "cell_type": "markdown",
   "metadata": {},
   "source": []
  },
  {
   "cell_type": "markdown",
   "metadata": {},
   "source": []
  },
  {
   "cell_type": "markdown",
   "metadata": {},
   "source": []
  },
  {
   "cell_type": "markdown",
   "metadata": {},
   "source": []
  },
  {
   "cell_type": "markdown",
   "metadata": {},
   "source": []
  },
  {
   "cell_type": "markdown",
   "metadata": {},
   "source": [
    "## 2) Text analysis on Story of DataBreaches using Natural Language Processing"
   ]
  },
  {
   "cell_type": "code",
   "execution_count": 8,
   "metadata": {},
   "outputs": [],
   "source": [
    "import re\n",
    "from wordcloud import WordCloud, STOPWORDS\n",
    "import networkx as nx          \n",
    "import nltk\n",
    "from nltk.corpus import stopwords\n",
    "import itertools\n",
    "import collections\n",
    "from nltk import bigrams\n",
    "from sklearn.feature_extraction.text import TfidfVectorizer\n",
    "from nltk.stem import WordNetLemmatizer\n",
    "from sklearn.cluster import KMeans\n",
    "from nltk.sentiment.vader import SentimentIntensityAnalyzer\n",
    "from nltk.sentiment.util import *\n",
    "from textblob import TextBlob  \n",
    "from bs4 import BeautifulSoup"
   ]
  },
  {
   "cell_type": "markdown",
   "metadata": {},
   "source": [
    "### 2.1) Getting the text for analysis"
   ]
  },
  {
   "cell_type": "code",
   "execution_count": 9,
   "metadata": {},
   "outputs": [],
   "source": [
    "df['Story']\n",
    "dword = df['Story'].dropna()"
   ]
  },
  {
   "cell_type": "code",
   "execution_count": 10,
   "metadata": {},
   "outputs": [
    {
     "data": {
      "text/plain": [
       "0      A dodgy backup has allegedly resulted in over ...\n",
       "1      A report says that full data base has been exp...\n",
       "2      A misconfigured spambot has leaked over 700m r...\n",
       "3      Usernames, email addresses, passwords for site...\n",
       "4      If you have a credit report, there’s a good ch...\n",
       "                             ...                        \n",
       "264    Laptop lost/stolen containing employee data: n...\n",
       "265    CardSystems was fingered by MasterCard after i...\n",
       "266    Blame the messenger! A box of computer tapes c...\n",
       "267    Computer backup tape containing personal infor...\n",
       "269    A former America Online software engineer stol...\n",
       "Name: Story, Length: 239, dtype: object"
      ]
     },
     "execution_count": 10,
     "metadata": {},
     "output_type": "execute_result"
    }
   ],
   "source": [
    "dword"
   ]
  },
  {
   "cell_type": "markdown",
   "metadata": {},
   "source": [
    "### 2.2) Cleaning the text data"
   ]
  },
  {
   "cell_type": "code",
   "execution_count": 11,
   "metadata": {},
   "outputs": [],
   "source": [
    "def clean(x):\n",
    "    x=BeautifulSoup(x).get_text()\n",
    "    \n",
    "    #Remove Non-Letters\n",
    "    x=re.sub('[^a-zA-Z]',' ',x)\n",
    "    \n",
    "    #Convert to lower_case and split\n",
    "    x=x.lower().split()\n",
    "    \n",
    "    #Remove stopwords\n",
    "    stop=set(stopwords.words('english'))\n",
    "    words=[w for w in x if not w in stop]\n",
    "    \n",
    "    #join the words back into one string\n",
    "    return(' '.join(words))\n",
    "dword=dword.apply(lambda x:clean(x))"
   ]
  },
  {
   "cell_type": "code",
   "execution_count": 12,
   "metadata": {},
   "outputs": [
    {
     "data": {
      "text/plain": [
       "0    dodgy backup allegedly resulted billion leaked...\n",
       "1    report says full data base exposed aadhaar uni...\n",
       "2    misconfigured spambot leaked records although ...\n",
       "3    usernames email addresses passwords sites incl...\n",
       "4    credit report good chance one million american...\n",
       "5       email addresses extracted associated passwords\n",
       "6    oct data numerous malaysian telco mvno provide...\n",
       "7    feb usernames passwords ip addresses stolen al...\n",
       "8    user accounts hacked using forged cookies log ...\n",
       "9      dec app developer failed secure database server\n",
       "Name: Story, dtype: object"
      ]
     },
     "metadata": {},
     "output_type": "display_data"
    }
   ],
   "source": [
    "display(dword.head(10))"
   ]
  },
  {
   "cell_type": "markdown",
   "metadata": {},
   "source": [
    "### 2.3) Finding the words in the data and removing stopwords"
   ]
  },
  {
   "cell_type": "code",
   "execution_count": 13,
   "metadata": {},
   "outputs": [
    {
     "data": {
      "text/plain": [
       "['dodgy',\n",
       " 'backup',\n",
       " 'allegedly',\n",
       " 'resulted',\n",
       " 'billion',\n",
       " 'leaked',\n",
       " 'email',\n",
       " 'addresses',\n",
       " 'plus',\n",
       " 'personal',\n",
       " 'info',\n",
       " 'cases',\n",
       " 'exposed',\n",
       " 'rcm',\n",
       " 'business',\n",
       " 'plans',\n",
       " 'operations']"
      ]
     },
     "execution_count": 13,
     "metadata": {},
     "output_type": "execute_result"
    }
   ],
   "source": [
    "words_in_story = [story.lower().split() for story in dword]\n",
    "words_in_story[0]"
   ]
  },
  {
   "cell_type": "code",
   "execution_count": 14,
   "metadata": {},
   "outputs": [
    {
     "data": {
      "text/plain": [
       "['during', 'on', 'once', 'above', 'nor', \"don't\", 'had', 'd', 'needn', 'an']"
      ]
     },
     "execution_count": 14,
     "metadata": {},
     "output_type": "execute_result"
    }
   ],
   "source": [
    "stop_words = set(stopwords.words('english'))\n",
    "list(stop_words)[0:10]"
   ]
  },
  {
   "cell_type": "code",
   "execution_count": 15,
   "metadata": {},
   "outputs": [
    {
     "data": {
      "text/plain": [
       "['dodgy',\n",
       " 'backup',\n",
       " 'allegedly',\n",
       " 'resulted',\n",
       " 'billion',\n",
       " 'leaked',\n",
       " 'email',\n",
       " 'addresses',\n",
       " 'plus',\n",
       " 'personal',\n",
       " 'info',\n",
       " 'cases',\n",
       " 'exposed',\n",
       " 'rcm',\n",
       " 'business',\n",
       " 'plans',\n",
       " 'operations']"
      ]
     },
     "execution_count": 15,
     "metadata": {},
     "output_type": "execute_result"
    }
   ],
   "source": [
    "story_nsw = [[word for word in story_words if not word in stop_words]\n",
    "              for story_words in words_in_story]\n",
    "story_nsw[0]"
   ]
  },
  {
   "cell_type": "markdown",
   "metadata": {},
   "source": [
    "### 2.3) Storing the count of words and finding most common words"
   ]
  },
  {
   "cell_type": "code",
   "execution_count": 16,
   "metadata": {},
   "outputs": [
    {
     "data": {
      "text/plain": [
       "[('data', 92),\n",
       " ('numbers', 91),\n",
       " ('information', 75),\n",
       " ('addresses', 64),\n",
       " ('million', 63),\n",
       " ('security', 61),\n",
       " ('stolen', 52),\n",
       " ('passwords', 49),\n",
       " ('names', 48),\n",
       " ('records', 39),\n",
       " ('social', 39),\n",
       " ('personal', 32),\n",
       " ('details', 32),\n",
       " ('card', 32),\n",
       " ('hackers', 30)]"
      ]
     },
     "execution_count": 16,
     "metadata": {},
     "output_type": "execute_result"
    }
   ],
   "source": [
    "all_words_nsw = list(itertools.chain(*story_nsw))\n",
    "\n",
    "counts_nsw = collections.Counter(all_words_nsw)\n",
    "\n",
    "counts_nsw.most_common(15)"
   ]
  },
  {
   "cell_type": "markdown",
   "metadata": {},
   "source": [
    "### 2.4) Ploting the common terms"
   ]
  },
  {
   "cell_type": "code",
   "execution_count": 17,
   "metadata": {},
   "outputs": [
    {
     "data": {
      "image/png": "[encoded data removed]",
      "text/plain": [
       "<Figure size 576x576 with 1 Axes>"
      ]
     },
     "metadata": {
      "needs_background": "light"
     },
     "output_type": "display_data"
    }
   ],
   "source": [
    "clean_story_nsw = pd.DataFrame(counts_nsw.most_common(15),\n",
    "                             columns=['words', 'count'])\n",
    "\n",
    "fig, ax = plt.subplots(figsize=(8, 8))\n",
    "\n",
    "# Plot horizontal bar graph\n",
    "clean_story_nsw.sort_values(by='count').plot.barh(x='words',\n",
    "                      y='count',\n",
    "                      ax=ax,\n",
    "                      color=\"orange\")\n",
    "\n",
    "ax.set_title(\"Common Terms Found in Story (Without Stop Words)\")\n",
    "\n",
    "plt.show()"
   ]
  },
  {
   "cell_type": "markdown",
   "metadata": {},
   "source": [
    "### 2.5) Exploring some co-occuring terms using bi-grams "
   ]
  },
  {
   "cell_type": "code",
   "execution_count": 18,
   "metadata": {},
   "outputs": [
    {
     "data": {
      "text/plain": [
       "[('dodgy', 'backup'),\n",
       " ('backup', 'allegedly'),\n",
       " ('allegedly', 'resulted'),\n",
       " ('resulted', 'billion'),\n",
       " ('billion', 'leaked'),\n",
       " ('leaked', 'email'),\n",
       " ('email', 'addresses'),\n",
       " ('addresses', 'plus'),\n",
       " ('plus', 'personal'),\n",
       " ('personal', 'info'),\n",
       " ('info', 'cases'),\n",
       " ('cases', 'exposed'),\n",
       " ('exposed', 'rcm'),\n",
       " ('rcm', 'business'),\n",
       " ('business', 'plans'),\n",
       " ('plans', 'operations')]"
      ]
     },
     "execution_count": 18,
     "metadata": {},
     "output_type": "execute_result"
    }
   ],
   "source": [
    "terms_bigram = [list(bigrams(term)) for term in story_nsw]\n",
    "terms_bigram[0]"
   ]
  },
  {
   "cell_type": "markdown",
   "metadata": {},
   "source": [
    "### 2.6) Counting and display top 30 common bi-grams"
   ]
  },
  {
   "cell_type": "code",
   "execution_count": 19,
   "metadata": {},
   "outputs": [
    {
     "data": {
      "text/plain": [
       "[(('social', 'security'), 39),\n",
       " (('security', 'numbers'), 38),\n",
       " (('email', 'addresses'), 20),\n",
       " (('credit', 'card'), 17),\n",
       " (('names', 'addresses'), 17),\n",
       " (('phone', 'numbers'), 16),\n",
       " (('dates', 'birth'), 15),\n",
       " (('personal', 'information'), 14),\n",
       " (('e', 'mail'), 10),\n",
       " (('mail', 'addresses'), 10),\n",
       " (('card', 'numbers'), 9),\n",
       " (('birth', 'dates'), 8),\n",
       " (('addresses', 'phone'), 7),\n",
       " (('bank', 'account'), 7),\n",
       " (('credit', 'debit'), 7),\n",
       " (('debit', 'card'), 7),\n",
       " (('hard', 'drive'), 7),\n",
       " (('unauthorized', 'access'), 6),\n",
       " (('addresses', 'passwords'), 6),\n",
       " (('license', 'numbers'), 6),\n",
       " (('account', 'numbers'), 6),\n",
       " (('included', 'names'), 6),\n",
       " (('addresses', 'social'), 6),\n",
       " (('million', 'people'), 6),\n",
       " (('names', 'social'), 6),\n",
       " (('user', 'accounts'), 5),\n",
       " (('home', 'addresses'), 5),\n",
       " (('went', 'missing'), 5),\n",
       " (('gained', 'access'), 5),\n",
       " (('card', 'data'), 5)]"
      ]
     },
     "execution_count": 19,
     "metadata": {},
     "output_type": "execute_result"
    }
   ],
   "source": [
    "# Flatten list of bigrams in clean story\n",
    "bigrams = list(itertools.chain(*terms_bigram))\n",
    "\n",
    "# Create counter of words in clean bigrams\n",
    "bigram_counts = collections.Counter(bigrams)\n",
    "\n",
    "bigram_counts.most_common(30)"
   ]
  },
  {
   "cell_type": "code",
   "execution_count": 20,
   "metadata": {},
   "outputs": [
    {
     "data": {
      "text/html": [
       "<div>\n",
       "<style scoped>\n",
       "    .dataframe tbody tr th:only-of-type {\n",
       "        vertical-align: middle;\n",
       "    }\n",
       "\n",
       "    .dataframe tbody tr th {\n",
       "        vertical-align: top;\n",
       "    }\n",
       "\n",
       "    .dataframe thead th {\n",
       "        text-align: right;\n",
       "    }\n",
       "</style>\n",
       "<table border=\"1\" class=\"dataframe\">\n",
       "  <thead>\n",
       "    <tr style=\"text-align: right;\">\n",
       "      <th></th>\n",
       "      <th>bigram</th>\n",
       "      <th>count</th>\n",
       "    </tr>\n",
       "  </thead>\n",
       "  <tbody>\n",
       "    <tr>\n",
       "      <th>0</th>\n",
       "      <td>(social, security)</td>\n",
       "      <td>39</td>\n",
       "    </tr>\n",
       "    <tr>\n",
       "      <th>1</th>\n",
       "      <td>(security, numbers)</td>\n",
       "      <td>38</td>\n",
       "    </tr>\n",
       "    <tr>\n",
       "      <th>2</th>\n",
       "      <td>(email, addresses)</td>\n",
       "      <td>20</td>\n",
       "    </tr>\n",
       "    <tr>\n",
       "      <th>3</th>\n",
       "      <td>(credit, card)</td>\n",
       "      <td>17</td>\n",
       "    </tr>\n",
       "    <tr>\n",
       "      <th>4</th>\n",
       "      <td>(names, addresses)</td>\n",
       "      <td>17</td>\n",
       "    </tr>\n",
       "    <tr>\n",
       "      <th>5</th>\n",
       "      <td>(phone, numbers)</td>\n",
       "      <td>16</td>\n",
       "    </tr>\n",
       "    <tr>\n",
       "      <th>6</th>\n",
       "      <td>(dates, birth)</td>\n",
       "      <td>15</td>\n",
       "    </tr>\n",
       "    <tr>\n",
       "      <th>7</th>\n",
       "      <td>(personal, information)</td>\n",
       "      <td>14</td>\n",
       "    </tr>\n",
       "    <tr>\n",
       "      <th>8</th>\n",
       "      <td>(e, mail)</td>\n",
       "      <td>10</td>\n",
       "    </tr>\n",
       "    <tr>\n",
       "      <th>9</th>\n",
       "      <td>(mail, addresses)</td>\n",
       "      <td>10</td>\n",
       "    </tr>\n",
       "    <tr>\n",
       "      <th>10</th>\n",
       "      <td>(card, numbers)</td>\n",
       "      <td>9</td>\n",
       "    </tr>\n",
       "    <tr>\n",
       "      <th>11</th>\n",
       "      <td>(birth, dates)</td>\n",
       "      <td>8</td>\n",
       "    </tr>\n",
       "    <tr>\n",
       "      <th>12</th>\n",
       "      <td>(addresses, phone)</td>\n",
       "      <td>7</td>\n",
       "    </tr>\n",
       "    <tr>\n",
       "      <th>13</th>\n",
       "      <td>(bank, account)</td>\n",
       "      <td>7</td>\n",
       "    </tr>\n",
       "    <tr>\n",
       "      <th>14</th>\n",
       "      <td>(credit, debit)</td>\n",
       "      <td>7</td>\n",
       "    </tr>\n",
       "    <tr>\n",
       "      <th>15</th>\n",
       "      <td>(debit, card)</td>\n",
       "      <td>7</td>\n",
       "    </tr>\n",
       "    <tr>\n",
       "      <th>16</th>\n",
       "      <td>(hard, drive)</td>\n",
       "      <td>7</td>\n",
       "    </tr>\n",
       "    <tr>\n",
       "      <th>17</th>\n",
       "      <td>(unauthorized, access)</td>\n",
       "      <td>6</td>\n",
       "    </tr>\n",
       "    <tr>\n",
       "      <th>18</th>\n",
       "      <td>(addresses, passwords)</td>\n",
       "      <td>6</td>\n",
       "    </tr>\n",
       "    <tr>\n",
       "      <th>19</th>\n",
       "      <td>(license, numbers)</td>\n",
       "      <td>6</td>\n",
       "    </tr>\n",
       "  </tbody>\n",
       "</table>\n",
       "</div>"
      ],
      "text/plain": [
       "                     bigram  count\n",
       "0        (social, security)     39\n",
       "1       (security, numbers)     38\n",
       "2        (email, addresses)     20\n",
       "3            (credit, card)     17\n",
       "4        (names, addresses)     17\n",
       "5          (phone, numbers)     16\n",
       "6            (dates, birth)     15\n",
       "7   (personal, information)     14\n",
       "8                 (e, mail)     10\n",
       "9         (mail, addresses)     10\n",
       "10          (card, numbers)      9\n",
       "11           (birth, dates)      8\n",
       "12       (addresses, phone)      7\n",
       "13          (bank, account)      7\n",
       "14          (credit, debit)      7\n",
       "15            (debit, card)      7\n",
       "16            (hard, drive)      7\n",
       "17   (unauthorized, access)      6\n",
       "18   (addresses, passwords)      6\n",
       "19       (license, numbers)      6"
      ]
     },
     "execution_count": 20,
     "metadata": {},
     "output_type": "execute_result"
    }
   ],
   "source": [
    "bigram_df = pd.DataFrame(bigram_counts.most_common(20),\n",
    "                             columns=['bigram', 'count'])\n",
    "bigram_df"
   ]
  },
  {
   "cell_type": "markdown",
   "metadata": {},
   "source": [
    "#### 2.7) Visualizing network of bi-grams "
   ]
  },
  {
   "cell_type": "code",
   "execution_count": 21,
   "metadata": {},
   "outputs": [
    {
     "data": {
      "image/png": "[encoded data removed]",
      "text/plain": [
       "<Figure size 864x720 with 1 Axes>"
      ]
     },
     "metadata": {},
     "output_type": "display_data"
    }
   ],
   "source": [
    "d = bigram_df.set_index('bigram').T.to_dict('records')\n",
    "G = nx.Graph()\n",
    "# Create connections between nodes\n",
    "for k, v in d[0].items():\n",
    "    G.add_edge(k[0], k[1], weight=(v * 3))\n",
    "\n",
    "fig, ax = plt.subplots(figsize=(12, 10))\n",
    "\n",
    "pos = nx.spring_layout(G, k=4)\n",
    "\n",
    "# Plot networks\n",
    "nx.draw_networkx(G, pos,\n",
    "                 font_size=11,\n",
    "                 fontweight='bold',\n",
    "                 width=2,\n",
    "                 edge_color='grey',\n",
    "                 node_color='green',\n",
    "#                  edge_length = 10,\n",
    "                 with_labels = False,\n",
    "                 ax=ax)\n",
    "\n",
    "# Create offset labels\n",
    "for key, value in pos.items():\n",
    "    x, y = value[0]+.00167, value[1]+.045\n",
    "    ax.text(x, y,\n",
    "            s=key,\n",
    "            bbox=dict(facecolor='blue', alpha=0.4),\n",
    "            horizontalalignment='center', fontsize=10)\n",
    "    \n",
    "plt.show()"
   ]
  },
  {
   "cell_type": "markdown",
   "metadata": {},
   "source": [
    "### 2.8) Sentimental Analysis on DataBreach Story Data "
   ]
  },
  {
   "cell_type": "code",
   "execution_count": 22,
   "metadata": {},
   "outputs": [
    {
     "data": {
      "text/html": [
       "<div>\n",
       "<style scoped>\n",
       "    .dataframe tbody tr th:only-of-type {\n",
       "        vertical-align: middle;\n",
       "    }\n",
       "\n",
       "    .dataframe tbody tr th {\n",
       "        vertical-align: top;\n",
       "    }\n",
       "\n",
       "    .dataframe thead th {\n",
       "        text-align: right;\n",
       "    }\n",
       "</style>\n",
       "<table border=\"1\" class=\"dataframe\">\n",
       "  <thead>\n",
       "    <tr style=\"text-align: right;\">\n",
       "      <th></th>\n",
       "      <th>sentiment_compound_polarity</th>\n",
       "      <th>sentiment_neutral</th>\n",
       "      <th>sentiment_negative</th>\n",
       "      <th>sentiment_pos</th>\n",
       "      <th>sentiment_type</th>\n",
       "    </tr>\n",
       "  </thead>\n",
       "  <tbody>\n",
       "    <tr>\n",
       "      <th>0</th>\n",
       "      <td>-0.5423</td>\n",
       "      <td>0.718</td>\n",
       "      <td>0.282</td>\n",
       "      <td>0.000</td>\n",
       "      <td>Negative</td>\n",
       "    </tr>\n",
       "    <tr>\n",
       "      <th>1</th>\n",
       "      <td>-0.3612</td>\n",
       "      <td>0.789</td>\n",
       "      <td>0.129</td>\n",
       "      <td>0.082</td>\n",
       "      <td>Negative</td>\n",
       "    </tr>\n",
       "    <tr>\n",
       "      <th>2</th>\n",
       "      <td>-0.6597</td>\n",
       "      <td>0.597</td>\n",
       "      <td>0.403</td>\n",
       "      <td>0.000</td>\n",
       "      <td>Negative</td>\n",
       "    </tr>\n",
       "  </tbody>\n",
       "</table>\n",
       "</div>"
      ],
      "text/plain": [
       "   sentiment_compound_polarity  sentiment_neutral  sentiment_negative  \\\n",
       "0                      -0.5423              0.718               0.282   \n",
       "1                      -0.3612              0.789               0.129   \n",
       "2                      -0.6597              0.597               0.403   \n",
       "\n",
       "   sentiment_pos sentiment_type  \n",
       "0          0.000       Negative  \n",
       "1          0.082       Negative  \n",
       "2          0.000       Negative  "
      ]
     },
     "execution_count": 22,
     "metadata": {},
     "output_type": "execute_result"
    }
   ],
   "source": [
    "from nltk.sentiment.vader import SentimentIntensityAnalyzer\n",
    "from nltk.sentiment.util import *\n",
    "from nltk.corpus import stopwords\n",
    "from nltk import tokenize\n",
    "sentiment = pd.DataFrame()\n",
    "sid = SentimentIntensityAnalyzer()\n",
    "\n",
    "sentiment['sentiment_compound_polarity']=dword.apply(lambda x:sid.polarity_scores(x)['compound'])\n",
    "sentiment['sentiment_neutral']=dword.apply(lambda x:sid.polarity_scores(x)['neu'])\n",
    "sentiment['sentiment_negative']=dword.apply(lambda x:sid.polarity_scores(x)['neg'])\n",
    "sentiment['sentiment_pos']=dword.apply(lambda x:sid.polarity_scores(x)['pos'])\n",
    "sentiment['sentiment_type']=''\n",
    "sentiment.loc[sentiment.sentiment_compound_polarity>0,'sentiment_type']='Positive'\n",
    "sentiment.loc[sentiment.sentiment_compound_polarity==0,'sentiment_type']='Neutral'\n",
    "sentiment.loc[sentiment.sentiment_compound_polarity<0,'sentiment_type']='Negative'\n",
    "sentiment.head(3)\n"
   ]
  },
  {
   "cell_type": "code",
   "execution_count": 23,
   "metadata": {},
   "outputs": [
    {
     "data": {
      "text/plain": [
       "Negative    139\n",
       "Positive     61\n",
       "Neutral      39\n",
       "Name: sentiment_type, dtype: int64"
      ]
     },
     "execution_count": 23,
     "metadata": {},
     "output_type": "execute_result"
    }
   ],
   "source": [
    "sentiment.sentiment_type.value_counts()"
   ]
  },
  {
   "cell_type": "markdown",
   "metadata": {},
   "source": [
    "### We can clearly see that negative stories are more as it is all about data breach"
   ]
  },
  {
   "cell_type": "code",
   "execution_count": 24,
   "metadata": {},
   "outputs": [
    {
     "data": {
      "text/plain": [
       "<matplotlib.axes._subplots.AxesSubplot at 0x7f0c3ab6b860>"
      ]
     },
     "execution_count": 24,
     "metadata": {},
     "output_type": "execute_result"
    },
    {
     "data": {
      "image/png": "[encoded data removed]",
      "text/plain": [
       "<Figure size 648x504 with 1 Axes>"
      ]
     },
     "metadata": {},
     "output_type": "display_data"
    }
   ],
   "source": [
    "colors = ['blue', 'yellow', 'red']\n",
    "explode = (0, 0.08, 0.1)\n",
    "sentiment.sentiment_type.value_counts().plot(kind='pie', figsize=(9, 7), title=\"Sentiment Analysis of Data Breach Stories (Pie Graph)\", colors=colors, explode=explode,autopct='%1.1f%%', shadow=False)"
   ]
  },
  {
   "cell_type": "markdown",
   "metadata": {},
   "source": [
    "## 3) Machine Learning Techniques to predict method of Data Breach"
   ]
  },
  {
   "cell_type": "markdown",
   "metadata": {},
   "source": [
    "### 3.1)Preprocessing of Data "
   ]
  },
  {
   "cell_type": "markdown",
   "metadata": {},
   "source": [
    "**3.1.1) counting categories of data**"
   ]
  },
  {
   "cell_type": "code",
   "execution_count": 3,
   "metadata": {},
   "outputs": [
    {
     "data": {
      "text/plain": [
       "Hacked                           136\n",
       "Lost / stolen device or media     46\n",
       "Web                               21\n",
       "Inside job                        18\n",
       "Accidentally published            16\n",
       "Poor security                     15\n",
       "Financial                          4\n",
       "Gaming                             4\n",
       "Government                         3\n",
       "Retail                             2\n",
       "Tech                               2\n",
       "Telecoms                           1\n",
       "Healthcare                         1\n",
       "App                                1\n",
       "Name: Method of Leak, dtype: int64"
      ]
     },
     "execution_count": 3,
     "metadata": {},
     "output_type": "execute_result"
    }
   ],
   "source": [
    "df['Method of Leak'].value_counts()"
   ]
  },
  {
   "cell_type": "code",
   "execution_count": 4,
   "metadata": {},
   "outputs": [
    {
     "data": {
      "text/plain": [
       "['Entity', 'Story', 'Year', 'Records_Lost', 'Sector', 'Method of Leak']"
      ]
     },
     "execution_count": 4,
     "metadata": {},
     "output_type": "execute_result"
    }
   ],
   "source": [
    "list(df.columns.values)"
   ]
  },
  {
   "cell_type": "code",
   "execution_count": 5,
   "metadata": {},
   "outputs": [],
   "source": [
    "dfmodel = pd.DataFrame()\n",
    "dfmodel['Story'] = df['Story']\n",
    "dfmodel['Method of Leak'] = df['Method of Leak']"
   ]
  },
  {
   "cell_type": "code",
   "execution_count": 6,
   "metadata": {},
   "outputs": [
    {
     "data": {
      "text/html": [
       "<div>\n",
       "<style scoped>\n",
       "    .dataframe tbody tr th:only-of-type {\n",
       "        vertical-align: middle;\n",
       "    }\n",
       "\n",
       "    .dataframe tbody tr th {\n",
       "        vertical-align: top;\n",
       "    }\n",
       "\n",
       "    .dataframe thead th {\n",
       "        text-align: right;\n",
       "    }\n",
       "</style>\n",
       "<table border=\"1\" class=\"dataframe\">\n",
       "  <thead>\n",
       "    <tr style=\"text-align: right;\">\n",
       "      <th></th>\n",
       "      <th>Story</th>\n",
       "      <th>Method of Leak</th>\n",
       "    </tr>\n",
       "  </thead>\n",
       "  <tbody>\n",
       "    <tr>\n",
       "      <th>0</th>\n",
       "      <td>A dodgy backup has allegedly resulted in over ...</td>\n",
       "      <td>Web</td>\n",
       "    </tr>\n",
       "    <tr>\n",
       "      <th>1</th>\n",
       "      <td>A report says that full data base has been exp...</td>\n",
       "      <td>Poor security</td>\n",
       "    </tr>\n",
       "    <tr>\n",
       "      <th>2</th>\n",
       "      <td>A misconfigured spambot has leaked over 700m r...</td>\n",
       "      <td>Web</td>\n",
       "    </tr>\n",
       "    <tr>\n",
       "      <th>3</th>\n",
       "      <td>Usernames, email addresses, passwords for site...</td>\n",
       "      <td>Web</td>\n",
       "    </tr>\n",
       "    <tr>\n",
       "      <th>4</th>\n",
       "      <td>If you have a credit report, there’s a good ch...</td>\n",
       "      <td>Financial</td>\n",
       "    </tr>\n",
       "    <tr>\n",
       "      <th>...</th>\n",
       "      <td>...</td>\n",
       "      <td>...</td>\n",
       "    </tr>\n",
       "    <tr>\n",
       "      <th>265</th>\n",
       "      <td>CardSystems was fingered by MasterCard after i...</td>\n",
       "      <td>Hacked</td>\n",
       "    </tr>\n",
       "    <tr>\n",
       "      <th>266</th>\n",
       "      <td>Blame the messenger! A box of computer tapes c...</td>\n",
       "      <td>Lost / stolen device or media</td>\n",
       "    </tr>\n",
       "    <tr>\n",
       "      <th>267</th>\n",
       "      <td>Computer backup tape containing personal infor...</td>\n",
       "      <td>Lost / stolen device or media</td>\n",
       "    </tr>\n",
       "    <tr>\n",
       "      <th>268</th>\n",
       "      <td>NaN</td>\n",
       "      <td>Poor security</td>\n",
       "    </tr>\n",
       "    <tr>\n",
       "      <th>269</th>\n",
       "      <td>A former America Online software engineer stol...</td>\n",
       "      <td>Web</td>\n",
       "    </tr>\n",
       "  </tbody>\n",
       "</table>\n",
       "<p>270 rows × 2 columns</p>\n",
       "</div>"
      ],
      "text/plain": [
       "                                                 Story  \\\n",
       "0    A dodgy backup has allegedly resulted in over ...   \n",
       "1    A report says that full data base has been exp...   \n",
       "2    A misconfigured spambot has leaked over 700m r...   \n",
       "3    Usernames, email addresses, passwords for site...   \n",
       "4    If you have a credit report, there’s a good ch...   \n",
       "..                                                 ...   \n",
       "265  CardSystems was fingered by MasterCard after i...   \n",
       "266  Blame the messenger! A box of computer tapes c...   \n",
       "267  Computer backup tape containing personal infor...   \n",
       "268                                                NaN   \n",
       "269  A former America Online software engineer stol...   \n",
       "\n",
       "                    Method of Leak  \n",
       "0                              Web  \n",
       "1                    Poor security  \n",
       "2                              Web  \n",
       "3                              Web  \n",
       "4                        Financial  \n",
       "..                             ...  \n",
       "265                         Hacked  \n",
       "266  Lost / stolen device or media  \n",
       "267  Lost / stolen device or media  \n",
       "268                  Poor security  \n",
       "269                            Web  \n",
       "\n",
       "[270 rows x 2 columns]"
      ]
     },
     "execution_count": 6,
     "metadata": {},
     "output_type": "execute_result"
    }
   ],
   "source": [
    "dfmodel"
   ]
  },
  {
   "cell_type": "code",
   "execution_count": 7,
   "metadata": {},
   "outputs": [],
   "source": [
    "dfmodel = dfmodel.dropna()"
   ]
  },
  {
   "cell_type": "code",
   "execution_count": 8,
   "metadata": {},
   "outputs": [
    {
     "data": {
      "text/html": [
       "<div>\n",
       "<style scoped>\n",
       "    .dataframe tbody tr th:only-of-type {\n",
       "        vertical-align: middle;\n",
       "    }\n",
       "\n",
       "    .dataframe tbody tr th {\n",
       "        vertical-align: top;\n",
       "    }\n",
       "\n",
       "    .dataframe thead th {\n",
       "        text-align: right;\n",
       "    }\n",
       "</style>\n",
       "<table border=\"1\" class=\"dataframe\">\n",
       "  <thead>\n",
       "    <tr style=\"text-align: right;\">\n",
       "      <th></th>\n",
       "      <th>Story</th>\n",
       "      <th>Method of Leak</th>\n",
       "    </tr>\n",
       "  </thead>\n",
       "  <tbody>\n",
       "    <tr>\n",
       "      <th>0</th>\n",
       "      <td>A dodgy backup has allegedly resulted in over ...</td>\n",
       "      <td>Web</td>\n",
       "    </tr>\n",
       "    <tr>\n",
       "      <th>1</th>\n",
       "      <td>A report says that full data base has been exp...</td>\n",
       "      <td>Poor security</td>\n",
       "    </tr>\n",
       "    <tr>\n",
       "      <th>2</th>\n",
       "      <td>A misconfigured spambot has leaked over 700m r...</td>\n",
       "      <td>Web</td>\n",
       "    </tr>\n",
       "    <tr>\n",
       "      <th>3</th>\n",
       "      <td>Usernames, email addresses, passwords for site...</td>\n",
       "      <td>Web</td>\n",
       "    </tr>\n",
       "    <tr>\n",
       "      <th>4</th>\n",
       "      <td>If you have a credit report, there’s a good ch...</td>\n",
       "      <td>Financial</td>\n",
       "    </tr>\n",
       "  </tbody>\n",
       "</table>\n",
       "</div>"
      ],
      "text/plain": [
       "                                               Story Method of Leak\n",
       "0  A dodgy backup has allegedly resulted in over ...            Web\n",
       "1  A report says that full data base has been exp...  Poor security\n",
       "2  A misconfigured spambot has leaked over 700m r...            Web\n",
       "3  Usernames, email addresses, passwords for site...            Web\n",
       "4  If you have a credit report, there’s a good ch...      Financial"
      ]
     },
     "execution_count": 8,
     "metadata": {},
     "output_type": "execute_result"
    }
   ],
   "source": [
    "dfmodel.head()"
   ]
  },
  {
   "cell_type": "code",
   "execution_count": 9,
   "metadata": {},
   "outputs": [
    {
     "data": {
      "text/plain": [
       "Hacked                           118\n",
       "Lost / stolen device or media     42\n",
       "Web                               19\n",
       "Inside job                        16\n",
       "Accidentally published            14\n",
       "Poor security                     13\n",
       "Financial                          4\n",
       "Government                         3\n",
       "Gaming                             3\n",
       "Retail                             2\n",
       "Tech                               2\n",
       "Telecoms                           1\n",
       "Healthcare                         1\n",
       "App                                1\n",
       "Name: Method of Leak, dtype: int64"
      ]
     },
     "execution_count": 9,
     "metadata": {},
     "output_type": "execute_result"
    }
   ],
   "source": [
    "dfmodel['Method of Leak'].value_counts()"
   ]
  },
  {
   "cell_type": "markdown",
   "metadata": {},
   "source": [
    "**3.1.2) We will be picking only top five category for our machine learning model as other categories have less observations and we will remove rows containing NaN**"
   ]
  },
  {
   "cell_type": "code",
   "execution_count": 10,
   "metadata": {},
   "outputs": [
    {
     "name": "stderr",
     "output_type": "stream",
     "text": [
      "/home/samroadie/somy/lib/python3.6/site-packages/ipykernel_launcher.py:6: SettingWithCopyWarning: \n",
      "A value is trying to be set on a copy of a slice from a DataFrame.\n",
      "Try using .loc[row_indexer,col_indexer] = value instead\n",
      "\n",
      "See the caveats in the documentation: http://pandas.pydata.org/pandas-docs/stable/user_guide/indexing.html#returning-a-view-versus-a-copy\n",
      "  \n"
     ]
    }
   ],
   "source": [
    "dfmodel[\"label\"] = dfmodel['Method of Leak'].map({'Hacked':0,     \n",
    "'Lost / stolen device or media':1,\n",
    "'Inside job ' : 2,\n",
    "'Accidentally published' : 3,\n",
    "'Poor security' : 4, \n",
    "'Inside job' : 5 })"
   ]
  },
  {
   "cell_type": "code",
   "execution_count": 11,
   "metadata": {},
   "outputs": [],
   "source": [
    "dfmodel = dfmodel.dropna()"
   ]
  },
  {
   "cell_type": "code",
   "execution_count": 12,
   "metadata": {},
   "outputs": [
    {
     "data": {
      "text/html": [
       "<div>\n",
       "<style scoped>\n",
       "    .dataframe tbody tr th:only-of-type {\n",
       "        vertical-align: middle;\n",
       "    }\n",
       "\n",
       "    .dataframe tbody tr th {\n",
       "        vertical-align: top;\n",
       "    }\n",
       "\n",
       "    .dataframe thead th {\n",
       "        text-align: right;\n",
       "    }\n",
       "</style>\n",
       "<table border=\"1\" class=\"dataframe\">\n",
       "  <thead>\n",
       "    <tr style=\"text-align: right;\">\n",
       "      <th></th>\n",
       "      <th>Story</th>\n",
       "      <th>Method of Leak</th>\n",
       "      <th>label</th>\n",
       "    </tr>\n",
       "  </thead>\n",
       "  <tbody>\n",
       "    <tr>\n",
       "      <th>1</th>\n",
       "      <td>A report says that full data base has been exp...</td>\n",
       "      <td>Poor security</td>\n",
       "      <td>4.0</td>\n",
       "    </tr>\n",
       "    <tr>\n",
       "      <th>5</th>\n",
       "      <td>85.2m email addresses extracted, but only 18.3...</td>\n",
       "      <td>Hacked</td>\n",
       "      <td>0.0</td>\n",
       "    </tr>\n",
       "    <tr>\n",
       "      <th>6</th>\n",
       "      <td>Oct. Data from numerous Malaysian telco &amp; MVNO...</td>\n",
       "      <td>Hacked</td>\n",
       "      <td>0.0</td>\n",
       "    </tr>\n",
       "    <tr>\n",
       "      <th>9</th>\n",
       "      <td>Dec. The app's developer failed to secure the ...</td>\n",
       "      <td>Poor security</td>\n",
       "      <td>4.0</td>\n",
       "    </tr>\n",
       "    <tr>\n",
       "      <th>12</th>\n",
       "      <td>July. South Korean police are blaming North Ko...</td>\n",
       "      <td>Hacked</td>\n",
       "      <td>0.0</td>\n",
       "    </tr>\n",
       "    <tr>\n",
       "      <th>...</th>\n",
       "      <td>...</td>\n",
       "      <td>...</td>\n",
       "      <td>...</td>\n",
       "    </tr>\n",
       "    <tr>\n",
       "      <th>262</th>\n",
       "      <td>Press report: Tokyo police have arrested two m...</td>\n",
       "      <td>Hacked</td>\n",
       "      <td>0.0</td>\n",
       "    </tr>\n",
       "    <tr>\n",
       "      <th>264</th>\n",
       "      <td>Laptop lost/stolen containing employee data: n...</td>\n",
       "      <td>Lost / stolen device or media</td>\n",
       "      <td>1.0</td>\n",
       "    </tr>\n",
       "    <tr>\n",
       "      <th>265</th>\n",
       "      <td>CardSystems was fingered by MasterCard after i...</td>\n",
       "      <td>Hacked</td>\n",
       "      <td>0.0</td>\n",
       "    </tr>\n",
       "    <tr>\n",
       "      <th>266</th>\n",
       "      <td>Blame the messenger! A box of computer tapes c...</td>\n",
       "      <td>Lost / stolen device or media</td>\n",
       "      <td>1.0</td>\n",
       "    </tr>\n",
       "    <tr>\n",
       "      <th>267</th>\n",
       "      <td>Computer backup tape containing personal infor...</td>\n",
       "      <td>Lost / stolen device or media</td>\n",
       "      <td>1.0</td>\n",
       "    </tr>\n",
       "  </tbody>\n",
       "</table>\n",
       "<p>203 rows × 3 columns</p>\n",
       "</div>"
      ],
      "text/plain": [
       "                                                 Story  \\\n",
       "1    A report says that full data base has been exp...   \n",
       "5    85.2m email addresses extracted, but only 18.3...   \n",
       "6    Oct. Data from numerous Malaysian telco & MVNO...   \n",
       "9    Dec. The app's developer failed to secure the ...   \n",
       "12   July. South Korean police are blaming North Ko...   \n",
       "..                                                 ...   \n",
       "262  Press report: Tokyo police have arrested two m...   \n",
       "264  Laptop lost/stolen containing employee data: n...   \n",
       "265  CardSystems was fingered by MasterCard after i...   \n",
       "266  Blame the messenger! A box of computer tapes c...   \n",
       "267  Computer backup tape containing personal infor...   \n",
       "\n",
       "                    Method of Leak  label  \n",
       "1                    Poor security    4.0  \n",
       "5                           Hacked    0.0  \n",
       "6                           Hacked    0.0  \n",
       "9                    Poor security    4.0  \n",
       "12                          Hacked    0.0  \n",
       "..                             ...    ...  \n",
       "262                         Hacked    0.0  \n",
       "264  Lost / stolen device or media    1.0  \n",
       "265                         Hacked    0.0  \n",
       "266  Lost / stolen device or media    1.0  \n",
       "267  Lost / stolen device or media    1.0  \n",
       "\n",
       "[203 rows x 3 columns]"
      ]
     },
     "execution_count": 12,
     "metadata": {},
     "output_type": "execute_result"
    }
   ],
   "source": [
    "dfmodel"
   ]
  },
  {
   "cell_type": "markdown",
   "metadata": {},
   "source": [
    "**3.1.3) We will tokenize our story input and count the terms using text data preprocessing methods**"
   ]
  },
  {
   "cell_type": "code",
   "execution_count": 13,
   "metadata": {},
   "outputs": [],
   "source": [
    "token = RegexpTokenizer(r'[a-zA-Z0-9]+')\n",
    "cv = CountVectorizer(lowercase=True,stop_words='english',ngram_range = (1,1),tokenizer = token.tokenize)\n",
    "text_counts= cv.fit_transform(dfmodel['Story'])"
   ]
  },
  {
   "cell_type": "markdown",
   "metadata": {},
   "source": [
    "### 3.2) Creating the testing and training dataset , here X is the input story and y is the method of Leak "
   ]
  },
  {
   "cell_type": "code",
   "execution_count": 14,
   "metadata": {},
   "outputs": [],
   "source": [
    "X_train, X_test, y_train, y_test = train_test_split(text_counts, dfmodel['label'], test_size=0.2,shuffle=True, random_state=105)"
   ]
  },
  {
   "cell_type": "markdown",
   "metadata": {},
   "source": [
    "**Let’s have a look at the models used and the accuracy achieved in each, along with some important terms used**<br>\n",
    "* **Accuracy: (True Positive + True Negative) / Total Population**\n",
    "    * Accuracy is a ratio of correctly predicted observation to the total observations.\n",
    "    * True Positive: The number of correct predictions that the occurrence is positive\n",
    "    * True Negative: The number of correct predictions that the occurrence is negative\n",
    "* **F1-Score: (2 x Precision x Recall) / (Precision + Recall**\n",
    "    * F1-Score is the weighted average of Precision and Recall used in all types of classification algorithms. Therefore, this score takes both false positives and false negatives into account. F1-Score is usually more useful than accuracy, especially if you have an uneven class distribution.\n",
    "* **Precision:** When a positive value is predicted, how often is the prediction correct?\n",
    "* **Recall:** When the actual value is positive, how often is the prediction correct?"
   ]
  },
  {
   "cell_type": "markdown",
   "metadata": {},
   "source": [
    "### 3.3) Applying Multinomial Naive Bayes classifier model for Prediction"
   ]
  },
  {
   "cell_type": "code",
   "execution_count": 15,
   "metadata": {},
   "outputs": [],
   "source": [
    "model1 = MultinomialNB().fit(X_train, y_train)\n",
    "md1predicted= model1.predict(X_test)"
   ]
  },
  {
   "cell_type": "code",
   "execution_count": 16,
   "metadata": {},
   "outputs": [
    {
     "name": "stdout",
     "output_type": "stream",
     "text": [
      "MultinomialNB Accuracy: 0.7560975609756098\n"
     ]
    }
   ],
   "source": [
    "print(\"MultinomialNB Accuracy:\",metrics.accuracy_score(y_test, md1predicted))"
   ]
  },
  {
   "cell_type": "code",
   "execution_count": 17,
   "metadata": {},
   "outputs": [
    {
     "name": "stdout",
     "output_type": "stream",
     "text": [
      "confusion_matrix [[22  4  0  0  1]\n",
      " [ 0  8  0  0  0]\n",
      " [ 3  0  0  0  0]\n",
      " [ 1  0  0  0  0]\n",
      " [ 0  1  0  0  1]]\n"
     ]
    }
   ],
   "source": [
    "print(\"confusion_matrix\",confusion_matrix(y_test,md1predicted))"
   ]
  },
  {
   "cell_type": "code",
   "execution_count": 18,
   "metadata": {},
   "outputs": [
    {
     "data": {
      "image/png": "[encoded data removed]",
      "text/plain": [
       "<Figure size 432x288 with 2 Axes>"
      ]
     },
     "metadata": {
      "needs_background": "light"
     },
     "output_type": "display_data"
    }
   ],
   "source": [
    "conf_mat = confusion_matrix(y_test,md1predicted)\n",
    "ax = sns.heatmap(conf_mat, annot=True, fmt=\"d\")"
   ]
  },
  {
   "cell_type": "code",
   "execution_count": 19,
   "metadata": {},
   "outputs": [
    {
     "name": "stdout",
     "output_type": "stream",
     "text": [
      "classification_report\n",
      "              precision    recall  f1-score   support\n",
      "\n",
      "         0.0       0.85      0.81      0.83        27\n",
      "         1.0       0.62      1.00      0.76         8\n",
      "         3.0       0.00      0.00      0.00         3\n",
      "         4.0       0.00      0.00      0.00         1\n",
      "         5.0       0.50      0.50      0.50         2\n",
      "\n",
      "    accuracy                           0.76        41\n",
      "   macro avg       0.39      0.46      0.42        41\n",
      "weighted avg       0.70      0.76      0.72        41\n",
      "\n"
     ]
    },
    {
     "name": "stderr",
     "output_type": "stream",
     "text": [
      "/home/samroadie/somy/lib/python3.6/site-packages/sklearn/metrics/_classification.py:1272: UndefinedMetricWarning: Precision and F-score are ill-defined and being set to 0.0 in labels with no predicted samples. Use `zero_division` parameter to control this behavior.\n",
      "  _warn_prf(average, modifier, msg_start, len(result))\n"
     ]
    }
   ],
   "source": [
    "print(\"classification_report\")\n",
    "print(classification_report(y_test,md1predicted))"
   ]
  },
  {
   "cell_type": "markdown",
   "metadata": {},
   "source": [
    "### 3.4) Applying Random Forest Model for Prediction"
   ]
  },
  {
   "cell_type": "code",
   "execution_count": 20,
   "metadata": {},
   "outputs": [
    {
     "data": {
      "text/plain": [
       "RandomForestClassifier(bootstrap=True, ccp_alpha=0.0, class_weight=None,\n",
       "                       criterion='gini', max_depth=None, max_features='auto',\n",
       "                       max_leaf_nodes=None, max_samples=None,\n",
       "                       min_impurity_decrease=0.0, min_impurity_split=None,\n",
       "                       min_samples_leaf=1, min_samples_split=2,\n",
       "                       min_weight_fraction_leaf=0.0, n_estimators=1000,\n",
       "                       n_jobs=None, oob_score=False, random_state=0, verbose=0,\n",
       "                       warm_start=False)"
      ]
     },
     "execution_count": 20,
     "metadata": {},
     "output_type": "execute_result"
    }
   ],
   "source": [
    "model2 = RandomForestClassifier(n_estimators=1000, random_state=0)\n",
    "model2.fit(X_train, y_train)"
   ]
  },
  {
   "cell_type": "code",
   "execution_count": 21,
   "metadata": {},
   "outputs": [],
   "source": [
    "md2predicted = model2.predict(X_test)"
   ]
  },
  {
   "cell_type": "code",
   "execution_count": 22,
   "metadata": {},
   "outputs": [
    {
     "name": "stdout",
     "output_type": "stream",
     "text": [
      "Random Forest Accuracy 0.8048780487804879\n"
     ]
    }
   ],
   "source": [
    "print(\"Random Forest Accuracy\",metrics.accuracy_score(y_test, md2predicted))"
   ]
  },
  {
   "cell_type": "code",
   "execution_count": 23,
   "metadata": {},
   "outputs": [
    {
     "name": "stdout",
     "output_type": "stream",
     "text": [
      "confusion_matrix [[26  0  0  0  1]\n",
      " [ 1  7  0  0  0]\n",
      " [ 3  0  0  0  0]\n",
      " [ 1  0  0  0  0]\n",
      " [ 2  0  0  0  0]]\n"
     ]
    }
   ],
   "source": [
    "print(\"confusion_matrix\",confusion_matrix(y_test,md2predicted))"
   ]
  },
  {
   "cell_type": "code",
   "execution_count": 24,
   "metadata": {},
   "outputs": [
    {
     "data": {
      "image/png": "[encoded data removed]",
      "text/plain": [
       "<Figure size 432x288 with 2 Axes>"
      ]
     },
     "metadata": {
      "needs_background": "light"
     },
     "output_type": "display_data"
    }
   ],
   "source": [
    "conf_mat = confusion_matrix(y_test,md2predicted)\n",
    "ax = sns.heatmap(conf_mat, annot=True, fmt=\"d\")"
   ]
  },
  {
   "cell_type": "code",
   "execution_count": 25,
   "metadata": {},
   "outputs": [
    {
     "name": "stdout",
     "output_type": "stream",
     "text": [
      "classification_report\n",
      "              precision    recall  f1-score   support\n",
      "\n",
      "         0.0       0.79      0.96      0.87        27\n",
      "         1.0       1.00      0.88      0.93         8\n",
      "         3.0       0.00      0.00      0.00         3\n",
      "         4.0       0.00      0.00      0.00         1\n",
      "         5.0       0.00      0.00      0.00         2\n",
      "\n",
      "    accuracy                           0.80        41\n",
      "   macro avg       0.36      0.37      0.36        41\n",
      "weighted avg       0.71      0.80      0.75        41\n",
      "\n"
     ]
    },
    {
     "name": "stderr",
     "output_type": "stream",
     "text": [
      "/home/samroadie/somy/lib/python3.6/site-packages/sklearn/metrics/_classification.py:1272: UndefinedMetricWarning: Precision and F-score are ill-defined and being set to 0.0 in labels with no predicted samples. Use `zero_division` parameter to control this behavior.\n",
      "  _warn_prf(average, modifier, msg_start, len(result))\n"
     ]
    }
   ],
   "source": [
    "print(\"classification_report\")\n",
    "print(classification_report(y_test,md2predicted))"
   ]
  },
  {
   "cell_type": "markdown",
   "metadata": {},
   "source": [
    "### 3.5) Applying Stochastic Gradient Descent model for prediction"
   ]
  },
  {
   "cell_type": "code",
   "execution_count": 48,
   "metadata": {},
   "outputs": [
    {
     "data": {
      "text/plain": [
       "SGDClassifier(alpha=0.0001, average=False, class_weight=None,\n",
       "              early_stopping=False, epsilon=0.1, eta0=0.0, fit_intercept=True,\n",
       "              l1_ratio=0.15, learning_rate='optimal', loss='hinge',\n",
       "              max_iter=1000, n_iter_no_change=5, n_jobs=None, penalty='l2',\n",
       "              power_t=0.5, random_state=None, shuffle=True, tol=0.001,\n",
       "              validation_fraction=0.1, verbose=0, warm_start=False)"
      ]
     },
     "execution_count": 48,
     "metadata": {},
     "output_type": "execute_result"
    }
   ],
   "source": [
    "model3 = SGDClassifier().fit(X_train, y_train)\n",
    "model3.fit(X_train, y_train)"
   ]
  },
  {
   "cell_type": "code",
   "execution_count": 49,
   "metadata": {},
   "outputs": [],
   "source": [
    "md3predicted = model3.predict(X_test)"
   ]
  },
  {
   "cell_type": "code",
   "execution_count": 50,
   "metadata": {},
   "outputs": [
    {
     "name": "stdout",
     "output_type": "stream",
     "text": [
      "SGD Accuracy 0.7317073170731707\n"
     ]
    }
   ],
   "source": [
    "print(\"SGD Accuracy\",metrics.accuracy_score(y_test, md3predicted))"
   ]
  },
  {
   "cell_type": "code",
   "execution_count": 51,
   "metadata": {},
   "outputs": [
    {
     "name": "stdout",
     "output_type": "stream",
     "text": [
      "confusion_matrix\n",
      "[[22  1  0  4  0]\n",
      " [ 0  8  0  0  0]\n",
      " [ 3  0  0  0  0]\n",
      " [ 1  0  0  0  0]\n",
      " [ 2  0  0  0  0]]\n"
     ]
    }
   ],
   "source": [
    "print(\"confusion_matrix\")\n",
    "print(confusion_matrix(y_test,md3predicted))"
   ]
  },
  {
   "cell_type": "code",
   "execution_count": 52,
   "metadata": {},
   "outputs": [
    {
     "data": {
      "image/png": "[encoded data removed]",
      "text/plain": [
       "<Figure size 432x288 with 2 Axes>"
      ]
     },
     "metadata": {
      "needs_background": "light"
     },
     "output_type": "display_data"
    }
   ],
   "source": [
    "conf_mat = confusion_matrix(y_test,md3predicted)\n",
    "ax = sns.heatmap(conf_mat, annot=True, fmt=\"d\")"
   ]
  },
  {
   "cell_type": "code",
   "execution_count": 53,
   "metadata": {},
   "outputs": [
    {
     "name": "stdout",
     "output_type": "stream",
     "text": [
      "classification_report\n",
      "              precision    recall  f1-score   support\n",
      "\n",
      "         0.0       0.79      0.81      0.80        27\n",
      "         1.0       0.89      1.00      0.94         8\n",
      "         3.0       0.00      0.00      0.00         3\n",
      "         4.0       0.00      0.00      0.00         1\n",
      "         5.0       0.00      0.00      0.00         2\n",
      "\n",
      "    accuracy                           0.73        41\n",
      "   macro avg       0.33      0.36      0.35        41\n",
      "weighted avg       0.69      0.73      0.71        41\n",
      "\n"
     ]
    },
    {
     "name": "stderr",
     "output_type": "stream",
     "text": [
      "/home/samroadie/somy/lib/python3.6/site-packages/sklearn/metrics/_classification.py:1272: UndefinedMetricWarning: Precision and F-score are ill-defined and being set to 0.0 in labels with no predicted samples. Use `zero_division` parameter to control this behavior.\n",
      "  _warn_prf(average, modifier, msg_start, len(result))\n"
     ]
    }
   ],
   "source": [
    "print(\"classification_report\")\n",
    "print(classification_report(y_test,md3predicted))"
   ]
  },
  {
   "cell_type": "markdown",
   "metadata": {},
   "source": [
    "### 3.6) Applying Gradient Boosting Classifier Model for Prediction"
   ]
  },
  {
   "cell_type": "code",
   "execution_count": 54,
   "metadata": {},
   "outputs": [
    {
     "data": {
      "text/plain": [
       "GradientBoostingClassifier(ccp_alpha=0.0, criterion='friedman_mse', init=None,\n",
       "                           learning_rate=0.1, loss='deviance', max_depth=3,\n",
       "                           max_features=None, max_leaf_nodes=None,\n",
       "                           min_impurity_decrease=0.0, min_impurity_split=None,\n",
       "                           min_samples_leaf=1, min_samples_split=2,\n",
       "                           min_weight_fraction_leaf=0.0, n_estimators=100,\n",
       "                           n_iter_no_change=None, presort='deprecated',\n",
       "                           random_state=None, subsample=1.0, tol=0.0001,\n",
       "                           validation_fraction=0.1, verbose=0,\n",
       "                           warm_start=False)"
      ]
     },
     "execution_count": 54,
     "metadata": {},
     "output_type": "execute_result"
    }
   ],
   "source": [
    "model4 = GradientBoostingClassifier().fit(X_train, y_train)\n",
    "model4.fit(X_train, y_train)"
   ]
  },
  {
   "cell_type": "code",
   "execution_count": 55,
   "metadata": {},
   "outputs": [],
   "source": [
    "md4predicted = model4.predict(X_test)"
   ]
  },
  {
   "cell_type": "code",
   "execution_count": 56,
   "metadata": {},
   "outputs": [
    {
     "name": "stdout",
     "output_type": "stream",
     "text": [
      "Gradient Boosting Classifier Accuracy 0.7560975609756098\n"
     ]
    }
   ],
   "source": [
    "print(\"Gradient Boosting Classifier Accuracy\",metrics.accuracy_score(y_test, md4predicted))"
   ]
  },
  {
   "cell_type": "code",
   "execution_count": 57,
   "metadata": {},
   "outputs": [
    {
     "name": "stdout",
     "output_type": "stream",
     "text": [
      "confusion_matrix\n",
      "[[25  0  0  0  2]\n",
      " [ 2  5  0  0  1]\n",
      " [ 3  0  0  0  0]\n",
      " [ 1  0  0  0  0]\n",
      " [ 1  0  0  0  1]]\n"
     ]
    }
   ],
   "source": [
    "print(\"confusion_matrix\")\n",
    "print(confusion_matrix(y_test,md4predicted))"
   ]
  },
  {
   "cell_type": "code",
   "execution_count": 58,
   "metadata": {},
   "outputs": [
    {
     "data": {
      "image/png": "[encoded data removed]",
      "text/plain": [
       "<Figure size 432x288 with 2 Axes>"
      ]
     },
     "metadata": {
      "needs_background": "light"
     },
     "output_type": "display_data"
    }
   ],
   "source": [
    "conf_mat = confusion_matrix(y_test,md4predicted)\n",
    "ax = sns.heatmap(conf_mat, annot=True, fmt=\"d\")"
   ]
  },
  {
   "cell_type": "code",
   "execution_count": 59,
   "metadata": {},
   "outputs": [
    {
     "name": "stdout",
     "output_type": "stream",
     "text": [
      "classification_report\n",
      "              precision    recall  f1-score   support\n",
      "\n",
      "         0.0       0.78      0.93      0.85        27\n",
      "         1.0       1.00      0.62      0.77         8\n",
      "         3.0       0.00      0.00      0.00         3\n",
      "         4.0       0.00      0.00      0.00         1\n",
      "         5.0       0.25      0.50      0.33         2\n",
      "\n",
      "    accuracy                           0.76        41\n",
      "   macro avg       0.41      0.41      0.39        41\n",
      "weighted avg       0.72      0.76      0.72        41\n",
      "\n"
     ]
    },
    {
     "name": "stderr",
     "output_type": "stream",
     "text": [
      "/home/samroadie/somy/lib/python3.6/site-packages/sklearn/metrics/_classification.py:1272: UndefinedMetricWarning: Precision and F-score are ill-defined and being set to 0.0 in labels with no predicted samples. Use `zero_division` parameter to control this behavior.\n",
      "  _warn_prf(average, modifier, msg_start, len(result))\n"
     ]
    }
   ],
   "source": [
    "print(\"classification_report\")\n",
    "print(classification_report(y_test,md4predicted))"
   ]
  },
  {
   "cell_type": "markdown",
   "metadata": {},
   "source": [
    "### 3.7) Applying XGBoost Model for Prediction"
   ]
  },
  {
   "cell_type": "code",
   "execution_count": 60,
   "metadata": {},
   "outputs": [
    {
     "data": {
      "text/plain": [
       "XGBClassifier(base_score=0.5, booster=None, colsample_bylevel=1,\n",
       "              colsample_bynode=1, colsample_bytree=1, gamma=0, gpu_id=-1,\n",
       "              importance_type='gain', interaction_constraints=None,\n",
       "              learning_rate=0.300000012, max_delta_step=0, max_depth=6,\n",
       "              min_child_weight=1, missing=nan, monotone_constraints=None,\n",
       "              n_estimators=100, n_jobs=0, num_parallel_tree=1,\n",
       "              objective='multi:softprob', random_state=0, reg_alpha=0,\n",
       "              reg_lambda=1, scale_pos_weight=None, subsample=1,\n",
       "              tree_method=None, validate_parameters=False, verbosity=None)"
      ]
     },
     "execution_count": 60,
     "metadata": {},
     "output_type": "execute_result"
    }
   ],
   "source": [
    "model5 = XGBClassifier().fit(X_train, y_train)\n",
    "model5.fit(X_train, y_train)"
   ]
  },
  {
   "cell_type": "code",
   "execution_count": 61,
   "metadata": {},
   "outputs": [],
   "source": [
    "md5predicted = model5.predict(X_test)"
   ]
  },
  {
   "cell_type": "code",
   "execution_count": 62,
   "metadata": {},
   "outputs": [
    {
     "name": "stdout",
     "output_type": "stream",
     "text": [
      "XGBOOST Accuracy 0.7073170731707317\n"
     ]
    }
   ],
   "source": [
    "print(\"XGBOOST Accuracy\",metrics.accuracy_score(y_test, md5predicted))"
   ]
  },
  {
   "cell_type": "code",
   "execution_count": 63,
   "metadata": {},
   "outputs": [
    {
     "name": "stdout",
     "output_type": "stream",
     "text": [
      "confusion_matrix\n",
      "[[22  2  2  1  0]\n",
      " [ 1  7  0  0  0]\n",
      " [ 2  1  0  0  0]\n",
      " [ 1  0  0  0  0]\n",
      " [ 2  0  0  0  0]]\n"
     ]
    }
   ],
   "source": [
    "print(\"confusion_matrix\")\n",
    "print(confusion_matrix(y_test,md5predicted))"
   ]
  },
  {
   "cell_type": "code",
   "execution_count": 64,
   "metadata": {},
   "outputs": [
    {
     "data": {
      "image/png": "[encoded data removed]",
      "text/plain": [
       "<Figure size 432x288 with 2 Axes>"
      ]
     },
     "metadata": {
      "needs_background": "light"
     },
     "output_type": "display_data"
    }
   ],
   "source": [
    "conf_mat = confusion_matrix(y_test,md3predicted)\n",
    "ax = sns.heatmap(conf_mat, annot=True, fmt=\"d\")"
   ]
  },
  {
   "cell_type": "code",
   "execution_count": 65,
   "metadata": {},
   "outputs": [
    {
     "name": "stdout",
     "output_type": "stream",
     "text": [
      "classification_report\n",
      "              precision    recall  f1-score   support\n",
      "\n",
      "         0.0       0.79      0.81      0.80        27\n",
      "         1.0       0.70      0.88      0.78         8\n",
      "         3.0       0.00      0.00      0.00         3\n",
      "         4.0       0.00      0.00      0.00         1\n",
      "         5.0       0.00      0.00      0.00         2\n",
      "\n",
      "    accuracy                           0.71        41\n",
      "   macro avg       0.30      0.34      0.32        41\n",
      "weighted avg       0.65      0.71      0.68        41\n",
      "\n"
     ]
    }
   ],
   "source": [
    "print(\"classification_report\")\n",
    "print(classification_report(y_test,md5predicted))"
   ]
  },
  {
   "cell_type": "markdown",
   "metadata": {},
   "source": [
    "### 3.8) Which Model is The Best"
   ]
  },
  {
   "cell_type": "code",
   "execution_count": 66,
   "metadata": {},
   "outputs": [],
   "source": [
    "model_name = ['MNB','RandomForest','SGD','GradientBoosting','XGBoost']"
   ]
  },
  {
   "cell_type": "code",
   "execution_count": 67,
   "metadata": {},
   "outputs": [],
   "source": [
    "accuracy = [metrics.accuracy_score(y_test, md1predicted),metrics.accuracy_score(y_test, md2predicted),metrics.accuracy_score(y_test, md3predicted),metrics.accuracy_score(y_test, md4predicted),metrics.accuracy_score(y_test, md5predicted)]"
   ]
  },
  {
   "cell_type": "code",
   "execution_count": 68,
   "metadata": {},
   "outputs": [
    {
     "data": {
      "text/plain": [
       "[0.7560975609756098,\n",
       " 0.8048780487804879,\n",
       " 0.7317073170731707,\n",
       " 0.7560975609756098,\n",
       " 0.7073170731707317]"
      ]
     },
     "execution_count": 68,
     "metadata": {},
     "output_type": "execute_result"
    }
   ],
   "source": [
    "accuracy"
   ]
  },
  {
   "cell_type": "code",
   "execution_count": 69,
   "metadata": {},
   "outputs": [
    {
     "data": {
      "text/plain": [
       "<matplotlib.axes._subplots.AxesSubplot at 0x7fdf93a10d30>"
      ]
     },
     "execution_count": 69,
     "metadata": {},
     "output_type": "execute_result"
    },
    {
     "data": {
      "image/png": "[encoded data removed]",
      "text/plain": [
       "<Figure size 432x288 with 1 Axes>"
      ]
     },
     "metadata": {
      "needs_background": "light"
     },
     "output_type": "display_data"
    }
   ],
   "source": [
    "import seaborn as sns\n",
    "sns.boxplot(model_name,accuracy)"
   ]
  },
  {
   "cell_type": "markdown",
   "metadata": {},
   "source": []
  },
  {
   "cell_type": "markdown",
   "metadata": {},
   "source": []
  },
  {
   "cell_type": "markdown",
   "metadata": {},
   "source": [
    "## Conclusion"
   ]
  },
  {
   "cell_type": "markdown",
   "metadata": {},
   "source": [
    "After doing exploratory data analysis we find out following observations:</br>\n",
    "Hacking was the most frequent method of data leakage[1.1]. Further we saw the large no incidents happen in the web sector , which is quite obvious as we discussed large number of database being online and vulnerable to hackers[1.2].Number incidents were quite high in year 2011 which could be seen in [1.3].There was a increase in number of record lost year 2011 to 2013 then a gradual drop , but then from 2015 such incidents again increased[1.4].\n",
    "<br>\n",
    "<br>\n",
    "Further we deep dived into the textual part of our dataset which is the incident description and tried to find out most common words[2.4],bigrams[2.6] (such as (social ,security),(credit ,cards),etc.) and tried to find  a network and relation between these bigrams[2.7].Then we did sentimental analysis on databreach text data and it was expected that 58.2% of the data had a negative sentiment[2.8].\n",
    "<br><br>\n",
    "At last we tried to model our data breach text data using various ML Models such as Multinomial Naive Bayes Classifier[3.3] , Random Forest For Prediction [3.4] , Stochastic Gradient Descent Model [3.5] , Gradient Boosting Model [3.6] and XG Boost [3.7] . And later we discussed that Random Forest was the best model for our data to predict method of leak from the given text data with an accuracy of 80.48%.<br><br>\n",
    "For future versions of this project would like to incorporate time Series Analysis of dataset such that future attacks can we prevented by prior prediction. Thus the project will be able to not only able to predict method of data leak but also forecast future attacks"
   ]
  },
  {
   "cell_type": "markdown",
   "metadata": {},
   "source": [
    "## References"
   ]
  },
  {
   "cell_type": "markdown",
   "metadata": {},
   "source": [
    "**1)** A Review of Machine Learning Algorithms for Text-Documents Classification. Journal of Advances in Information Technology. 1. 10.4304/jait.1.1.4-20.  Baharudin, Baharum & Lee, Lam Hong & Khan, Khairullah & Khan, Aurangzeb. (2010). \n",
    "<br>\n",
    "**2)** A Worldwide Analysis of Cyber Security And Cyber Crime using Twitter Kartikay Sharma, Siddharth Bhasin, Piyush Bharadwaj [International Journal of Engineering and Advanced Technology (IJEAT) ISSN: 2249 – 8958, Volume-8 Issue-6S3, September 2019] .\n"
   ]
  }
 ],
 "metadata": {
  "kernelspec": {
   "display_name": "Python 3",
   "language": "python",
   "name": "python3"
  },
  "language_info": {
   "codemirror_mode": {
    "name": "ipython",
    "version": 3
   },
   "file_extension": ".py",
   "mimetype": "text/x-python",
   "name": "python",
   "nbconvert_exporter": "python",
   "pygments_lexer": "ipython3",
   "version": "3.6.8"
  }
 },
 "nbformat": 4,
 "nbformat_minor": 2
}
